{
 "cells": [
  {
   "cell_type": "code",
   "execution_count": 1,
   "id": "1226f8cb",
   "metadata": {},
   "outputs": [],
   "source": [
    "import pandas as pd\n",
    "import os\n",
    "from dotenv import load_dotenv\n",
    "import logging"
   ]
  },
  {
   "cell_type": "code",
   "execution_count": 2,
   "id": "8a3336a0",
   "metadata": {},
   "outputs": [
    {
     "name": "stdout",
     "output_type": "stream",
     "text": [
      "\n",
      "PROJECT_ROOT: /Users/benkaan/Desktop/projects/remote-log-analysis-automation\n",
      "DATA_DIR: /Users/benkaan/Desktop/projects/remote-log-analysis-automation/data\n",
      "ENV_FILE_PATH: /Users/benkaan/Desktop/projects/remote-log-analysis-automation/.env\n",
      "ANALYSIS_TRACKER_PATH: /Users/benkaan/Desktop/projects/remote-log-analysis-automation/data/log_analysis_tracker.xlsx\n",
      "      \n"
     ]
    }
   ],
   "source": [
    "# Configure basic loggig\n",
    "logging.basicConfig(level=logging.INFO,\n",
    "                    format='%(asctime)s - %(levelname)s - %(message)s')\n",
    "\n",
    "# Define constants and file paths\n",
    "PROJECT_ROOT = os.path.abspath(os.path.join(os.getcwd(), '..'))\n",
    "DATA_DIR = os.path.join(PROJECT_ROOT, 'data')\n",
    "ENV_FILE_PATH = os.path.join(PROJECT_ROOT, '.env')\n",
    "ANALYSIS_TRACKER_FILENAME = 'log_analysis_tracker.xlsx'\n",
    "ANALYSIS_TRACKER_PATH = os.path.join(DATA_DIR, ANALYSIS_TRACKER_FILENAME)\n",
    "\n",
    "# Column name in Excel containing remote log directory paths\n",
    "LOG_PATH_COLUMN = 'remote_log_directory'\n",
    "\n",
    "print(f\"\"\"\n",
    "PROJECT_ROOT: {PROJECT_ROOT}\n",
    "DATA_DIR: {DATA_DIR}\n",
    "ENV_FILE_PATH: {ENV_FILE_PATH}\n",
    "ANALYSIS_TRACKER_PATH: {ANALYSIS_TRACKER_PATH}\n",
    "      \"\"\")"
   ]
  },
  {
   "cell_type": "code",
   "execution_count": 3,
   "id": "bbfc7c4f",
   "metadata": {},
   "outputs": [
    {
     "name": "stderr",
     "output_type": "stream",
     "text": [
      "2025-05-01 11:22:54,144 - INFO - Loading environment variables from: /Users/benkaan/Desktop/projects/remote-log-analysis-automation/.env\n",
      "2025-05-01 11:22:54,144 - INFO - Environemnt variables are loaded successfully.\n",
      "2025-05-01 11:22:54,145 - INFO - SSH Hostname from .env: localhost\n"
     ]
    }
   ],
   "source": [
    "def load_environment_variables(env_path: str) -> dict:\n",
    "    \"\"\"\n",
    "    Loads required environment variables from a specified .env file.\n",
    "\n",
    "    Args:\n",
    "        env_path (str): The full path to the .env file.\n",
    "\n",
    "    Returns:\n",
    "        dict: A dictionary containing SSH credentials and hostname.\n",
    "\n",
    "    Raises:\n",
    "        FileNotFoundError: If the .env file is not found.\n",
    "        ValueError: If any required environment variable is missing.\n",
    "    \"\"\"\n",
    "    if not os.path.exists(env_path):\n",
    "        error_msg = f\".env file not found at {env_path}. Please create it based on .env.example\"\n",
    "        logging.error(error_msg)\n",
    "        raise FileNotFoundError(error_msg)\n",
    "\n",
    "    load_dotenv(dotenv_path=env_path)\n",
    "    logging.info(f\"Loading environment variables from: {env_path}\")\n",
    "    required_vars = [\"SSH_HOSTNAME\", \"SSH_USERNAME\", \"SSH_PASSWORD\"]\n",
    "    env_vars = {var: os.getenv(var) for var in required_vars}\n",
    "\n",
    "    missing_vars = [var for var, value in env_vars.items() if value is None]\n",
    "    if missing_vars:\n",
    "        error_msg = f\"Missing required environment variables in {env_path}: {', '.join(missing_vars)}.\"\n",
    "        logging.error(error_msg)\n",
    "        raise ValueError(error_msg)\n",
    "\n",
    "    logging.info(\"Environemnt variables are loaded successfully.\")\n",
    "    return env_vars\n",
    "\n",
    "# --- Load the variables ---\n",
    "try:\n",
    "    ssh_config = load_environment_variables(ENV_FILE_PATH)\n",
    "    logging.info(f\"SSH Hostname from .env: {ssh_config.get('SSH_HOSTNAME')}\")\n",
    "except (FileNotFoundError, ValueError) as e:\n",
    "    logging.error(f\"Failed to load configuration: {e}\")\n",
    "    ssh_config = None\n"
   ]
  },
  {
   "cell_type": "code",
   "execution_count": 6,
   "id": "099a78cc",
   "metadata": {},
   "outputs": [
    {
     "name": "stderr",
     "output_type": "stream",
     "text": [
      "2025-05-01 11:51:46,581 - INFO - Loading tracker file: /Users/benkaan/Desktop/projects/remote-log-analysis-automation/data/log_analysis_tracker.xlsx\n",
      "2025-05-01 11:51:46,598 - INFO - Successfully loaded tracker with shape: (12, 4)\n",
      "2025-05-01 11:51:46,600 - INFO - Required columns 'remote_log_directory' found in tracker.\n",
      "2025-05-01 11:51:46,598 - INFO - Successfully loaded tracker with shape: (12, 4)\n",
      "2025-05-01 11:51:46,600 - INFO - Required columns 'remote_log_directory' found in tracker.\n"
     ]
    },
    {
     "name": "stdout",
     "output_type": "stream",
     "text": [
      "\n",
      "--- Tracker DataFrame Head ---\n",
      "                            remote_log_directory    project department  \\\n",
      "0    /logs/marketing/campaigns/job_segment_users  marketing  campaigns   \n",
      "1       /logs/marketing/campaigns/job_update_crm  marketing  campaigns   \n",
      "2      /logs/marketing/campaigns/job_email_blast  marketing  campaigns   \n",
      "3      /logs/marketing/analytics/job_web_traffic  marketing  analytics   \n",
      "4  /logs/marketing/analytics/job_conversion_rate  marketing  analytics   \n",
      "\n",
      "              job_name  \n",
      "0    job_segment_users  \n",
      "1       job_update_crm  \n",
      "2      job_email_blast  \n",
      "3      job_web_traffic  \n",
      "4  job_conversion_rate  \n",
      "\n",
      "--- Tracker DataFrame Info ---\n",
      "<class 'pandas.core.frame.DataFrame'>\n",
      "RangeIndex: 12 entries, 0 to 11\n",
      "Data columns (total 4 columns):\n",
      " #   Column                Non-Null Count  Dtype \n",
      "---  ------                --------------  ----- \n",
      " 0   remote_log_directory  12 non-null     object\n",
      " 1   project               12 non-null     object\n",
      " 2   department            12 non-null     object\n",
      " 3   job_name              12 non-null     object\n",
      "dtypes: object(4)\n",
      "memory usage: 516.0+ bytes\n"
     ]
    }
   ],
   "source": [
    "def get_analysis_tracker(filename: str, required_col: str) -> pd.DataFrame | None:\n",
    "    \"\"\"\n",
    "    Loads the analysis tracker Excel file into a pandas DataFrame.\n",
    "    Checks for the required column.\n",
    "\n",
    "    Args:\n",
    "        filename (str): The path to the Excel tracker file.\n",
    "        required_col (str): The name of the column that must exist.\n",
    "\n",
    "    Returns:\n",
    "        pd.DataFrame or None: The loaded DataFrame, or None if loading fails.\n",
    "    \"\"\"\n",
    "    if not os.path.exists(filename):\n",
    "        logging.error(f\"Tracker file not found: '{filename}'. Please create it.\")\n",
    "        return None\n",
    "\n",
    "    logging.info(f\"Loading tracker file: {filename}\")\n",
    "    try:\n",
    "        df = pd.read_excel(filename, header=0)\n",
    "        logging.info(f\"Successfully loaded tracker with shape: {df.shape}\")\n",
    "\n",
    "        # Validate required column exists\n",
    "        if required_col not in df.columns:\n",
    "            logging.error(f\"Tracker file '{filename}' is missing the required column: '{required_col}'\")\n",
    "            return None\n",
    "\n",
    "        logging.info(f\"Required columns '{required_col}' found in tracker.\")\n",
    "        return df\n",
    "    except FileNotFoundError:\n",
    "        logging.error(f\"File not found error during pandas read: '{filename}'\")\n",
    "        return None\n",
    "    except Exception as e:\n",
    "        logging.error(f\"Failed to read tracker file '{filename}': {e}\")\n",
    "        return None\n",
    "\n",
    "# --- Load the tracker ---\n",
    "analysis_df = get_analysis_tracker(ANALYSIS_TRACKER_PATH, LOG_PATH_COLUMN)\n",
    "\n",
    "if analysis_df is not None:\n",
    "    print(\"\\n--- Tracker DataFrame Head ---\")\n",
    "    print(analysis_df.head())\n",
    "    print(\"\\n--- Tracker DataFrame Info ---\")\n",
    "    analysis_df.info()\n",
    "else:\n",
    "    print(\"\\nFailed to load the analysis tracker DataFrame.\")"
   ]
  }
 ],
 "metadata": {
  "kernelspec": {
   "display_name": ".venv",
   "language": "python",
   "name": "python3"
  },
  "language_info": {
   "codemirror_mode": {
    "name": "ipython",
    "version": 3
   },
   "file_extension": ".py",
   "mimetype": "text/x-python",
   "name": "python",
   "nbconvert_exporter": "python",
   "pygments_lexer": "ipython3",
   "version": "3.13.1"
  }
 },
 "nbformat": 4,
 "nbformat_minor": 5
}
